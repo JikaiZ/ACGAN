{
 "cells": [
  {
   "cell_type": "markdown",
   "metadata": {},
   "source": [
    "# Latent Space Interpolation"
   ]
  },
  {
   "cell_type": "code",
   "execution_count": 3,
   "metadata": {},
   "outputs": [],
   "source": [
    "import time\n",
    "\n",
    "import torch\n",
    "import torchvision.transforms as transforms\n",
    "import torchvision\n",
    "import torch.nn as nn\n",
    "import torch.optim as optim\n",
    "\n",
    "import numpy as np\n",
    "\n",
    "import matplotlib.pyplot as plt\n",
    "import random\n",
    "from torchsummary import summary\n",
    "\n",
    "import os\n",
    "\n",
    "from model import Generator_32, Discriminator, weights_init, compute_acc"
   ]
  },
  {
   "cell_type": "code",
   "execution_count": 4,
   "metadata": {},
   "outputs": [],
   "source": [
    "device = 'cuda' if torch.cuda.is_available() else 'cpu'"
   ]
  },
  {
   "cell_type": "code",
   "execution_count": 9,
   "metadata": {},
   "outputs": [],
   "source": [
    "batch_size = 100\n",
    "input_size = 110\n",
    "num_classes = 10\n",
    "image_size = 32\n",
    "EPOCH = 100\n",
    "noise_sd = 1\n",
    "LR = 0.0002\n"
   ]
  },
  {
   "cell_type": "code",
   "execution_count": 6,
   "metadata": {},
   "outputs": [
    {
     "name": "stdout",
     "output_type": "stream",
     "text": [
      "Files already downloaded and verified\n"
     ]
    }
   ],
   "source": [
    "transform_test = transforms.Compose([\n",
    "    transforms.Resize(image_size),\n",
    "    transforms.ToTensor(),\n",
    "    transforms.Normalize((0.5, 0.5, 0.5), (0.5, 0.5, 0.5)),\n",
    "\n",
    "])\n",
    "\n",
    "testset = torchvision.datasets.CIFAR10(root='./data', train=False, download=True, transform=transform_test)\n",
    "testloader = torch.utils.data.DataLoader(testset, batch_size=100, shuffle=False, num_workers=2)\n",
    "classes = ('plane', 'car', 'bird', 'cat',\n",
    "           'deer', 'dog', 'frog', 'horse', 'ship', 'truck')\n"
   ]
  },
  {
   "cell_type": "code",
   "execution_count": 76,
   "metadata": {},
   "outputs": [],
   "source": [
    "save_folder = \"./model/\""
   ]
  },
  {
   "cell_type": "code",
   "execution_count": 77,
   "metadata": {},
   "outputs": [
    {
     "data": {
      "text/plain": [
       "<All keys matched successfully>"
      ]
     },
     "execution_count": 77,
     "metadata": {},
     "output_type": "execute_result"
    }
   ],
   "source": [
    "model = Generator_32().to(device)\n",
    "model.load_state_dict(torch.load(os.path.join(save_folder, \"netG_epoch_999.pth\")))"
   ]
  },
  {
   "cell_type": "code",
   "execution_count": 78,
   "metadata": {},
   "outputs": [],
   "source": [
    "def get_sample_images(genmod, l, num_classes, noise_sd, postfix):\n",
    "    random.seed(123)\n",
    "    torch.manual_seed(123)\n",
    "    k = int(l * num_classes)\n",
    "    noise = torch.FloatTensor(k, 110, 1, 1).to(device)\n",
    "    label = np.concatenate([np.repeat([0], l), np.repeat([1], l), np.repeat([2], l), np.repeat([3], l), \n",
    "                            np.repeat([4], l), np.repeat([5], l), np.repeat([6], l), np.repeat([7], l), \n",
    "                            np.repeat([8], l), np.repeat([9], l)])\n",
    "    noise_ = np.random.normal(0, noise_sd, (k, 110))\n",
    "    class_onehot = np.zeros((k, num_classes))\n",
    "    class_onehot[np.arange(k), label] = 1\n",
    "    noise_[np.arange(k), :num_classes] = class_onehot[np.arange(k)]\n",
    "    noise_ = (torch.from_numpy(noise_))\n",
    "    noise.data.copy_(noise_.view(k, 110, 1, 1))\n",
    "    fake = genmod(noise)\n",
    "    return noise, fake\n",
    "   \n",
    "#     torchvision.utils.save_image(\n",
    "#                 fake.data,\n",
    "#                 './test_image/example_%s.png' % postfix,\n",
    "#                 nrow=l\n",
    "#             )"
   ]
  },
  {
   "cell_type": "code",
   "execution_count": 79,
   "metadata": {},
   "outputs": [],
   "source": [
    "noise, fake_imgs = get_sample_images(genmod=model, l=4, num_classes=num_classes, noise_sd=noise_sd, postfix=\"\")"
   ]
  },
  {
   "cell_type": "code",
   "execution_count": 84,
   "metadata": {},
   "outputs": [
    {
     "name": "stdout",
     "output_type": "stream",
     "text": [
      "Process:  plane\n",
      "Process:  car\n",
      "Process:  bird\n",
      "Process:  cat\n",
      "Process:  deer\n",
      "Process:  dog\n",
      "Process:  frog\n",
      "Process:  horse\n",
      "Process:  ship\n",
      "Process:  truck\n"
     ]
    }
   ],
   "source": [
    "l = 4\n",
    "start_idx, end_idx = 1, 3\n",
    "labels = np.arange(10)\n",
    "ratios = np.linspace(0, 1, num=10)\n",
    "for label in labels:\n",
    "    label_text = classes[label]\n",
    "    print(\"Process: \", label_text)\n",
    "    class_noise = noise[label*l:(l*label)+l]\n",
    "    start = class_noise[start_idx].squeeze().detach().cpu().numpy()\n",
    "    end = class_noise[end_idx].squeeze().detach().cpu().numpy()\n",
    "    vectors = []\n",
    "    for ratio in ratios:\n",
    "        v = (1.0 - ratio) * start + ratio * end\n",
    "        vectors.append(v)\n",
    "    interpolate = torch.from_numpy(np.array(vectors)).to(device)\n",
    "    gen_imgs = model(interpolate)\n",
    "    torchvision.utils.save_image(\n",
    "            gen_imgs.data,\n",
    "            './lsi/%s.png' % label_text,\n",
    "            nrow=4\n",
    "        )"
   ]
  }
 ],
 "metadata": {
  "kernelspec": {
   "display_name": "Python 3",
   "language": "python",
   "name": "python3"
  },
  "language_info": {
   "codemirror_mode": {
    "name": "ipython",
    "version": 3
   },
   "file_extension": ".py",
   "mimetype": "text/x-python",
   "name": "python",
   "nbconvert_exporter": "python",
   "pygments_lexer": "ipython3",
   "version": "3.7.4"
  }
 },
 "nbformat": 4,
 "nbformat_minor": 4
}
