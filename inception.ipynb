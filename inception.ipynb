{
 "cells": [
  {
   "cell_type": "code",
   "execution_count": 1,
   "metadata": {},
   "outputs": [],
   "source": [
    "import time\n",
    "\n",
    "import torch\n",
    "import torchvision.transforms as transforms\n",
    "import torchvision\n",
    "import torch.nn as nn\n",
    "import torch.optim as optim\n",
    "import torch.nn.functional as F\n",
    "\n",
    "import numpy as np\n",
    "\n",
    "import matplotlib.pyplot as plt\n",
    "import random\n",
    "from torchsummary import summary\n",
    "\n",
    "import os\n",
    "\n",
    "from model import Generator_32, Discriminator, weights_init, compute_acc\n",
    "from resnet20 import ResNetCIFAR\n",
    "from train_util import test"
   ]
  },
  {
   "cell_type": "code",
   "execution_count": 2,
   "metadata": {},
   "outputs": [],
   "source": [
    "device = 'cuda' if torch.cuda.is_available() else 'cpu'"
   ]
  },
  {
   "cell_type": "code",
   "execution_count": 3,
   "metadata": {},
   "outputs": [],
   "source": [
    "batch_size = 100\n",
    "input_size = 110\n",
    "num_classes = 10\n",
    "image_size = 32\n",
    "EPOCH = 100\n",
    "noise_sd = 1\n",
    "LR = 0.0002"
   ]
  },
  {
   "cell_type": "code",
   "execution_count": 4,
   "metadata": {},
   "outputs": [
    {
     "data": {
      "text/plain": [
       "<All keys matched successfully>"
      ]
     },
     "execution_count": 4,
     "metadata": {},
     "output_type": "execute_result"
    }
   ],
   "source": [
    "resnet = ResNetCIFAR(num_layers=20)\n",
    "resnet = resnet.to(device)\n",
    "resnet.load_state_dict(torch.load(\"./model/resnet20.pt\"))"
   ]
  },
  {
   "cell_type": "code",
   "execution_count": 5,
   "metadata": {},
   "outputs": [
    {
     "name": "stdout",
     "output_type": "stream",
     "text": [
      "Files already downloaded and verified\n",
      "Test Loss=0.3238, Test accuracy=0.9116\n"
     ]
    }
   ],
   "source": [
    "test(resnet)"
   ]
  },
  {
   "cell_type": "code",
   "execution_count": 6,
   "metadata": {},
   "outputs": [],
   "source": [
    "classes = ('plane', 'car', 'bird', 'cat',\n",
    "           'deer', 'dog', 'frog', 'horse', 'ship', 'truck')"
   ]
  },
  {
   "cell_type": "code",
   "execution_count": 7,
   "metadata": {},
   "outputs": [
    {
     "data": {
      "text/plain": [
       "<All keys matched successfully>"
      ]
     },
     "execution_count": 7,
     "metadata": {},
     "output_type": "execute_result"
    }
   ],
   "source": [
    "model = Generator_32().to(device)\n",
    "model.load_state_dict(torch.load(os.path.join('./model/', \"netG_epoch_999.pth\")))"
   ]
  },
  {
   "cell_type": "code",
   "execution_count": 8,
   "metadata": {},
   "outputs": [],
   "source": [
    "def get_sample_images(genmod, num_classes, noise_sd, n_images):\n",
    "    random.seed(123)\n",
    "    torch.manual_seed(123)\n",
    "    noise = torch.FloatTensor(n_images, 110, 1, 1).to(device)\n",
    "    label = np.random.randint(0, num_classes, n_images)\n",
    "    noise_ = np.random.normal(0, noise_sd, (n_images, 110))\n",
    "    class_onehot = np.zeros((n_images, num_classes))\n",
    "    class_onehot[np.arange(n_images), label] = 1\n",
    "    noise_[np.arange(n_images), :num_classes] = class_onehot[np.arange(n_images)]\n",
    "    noise_ = (torch.from_numpy(noise_))\n",
    "    noise.data.copy_(noise_.view(n_images, 110, 1, 1))\n",
    "    fake = genmod(noise)\n",
    "    return label, fake"
   ]
  },
  {
   "cell_type": "code",
   "execution_count": 9,
   "metadata": {},
   "outputs": [],
   "source": [
    "labels, fake_imgs = get_sample_images(model, 10, 1, 50000)"
   ]
  },
  {
   "cell_type": "code",
   "execution_count": 11,
   "metadata": {},
   "outputs": [],
   "source": [
    "np.save('./inception/labels.npy', labels)"
   ]
  },
  {
   "cell_type": "code",
   "execution_count": 13,
   "metadata": {},
   "outputs": [],
   "source": [
    "np.save('./inception/fake_img_arr.npy', fake_imgs.detach().cpu().numpy())"
   ]
  },
  {
   "cell_type": "code",
   "execution_count": 9,
   "metadata": {},
   "outputs": [],
   "source": [
    "def calculate_inception_scores(fake_imgs, resmod, n_splits, eps=1e-15):\n",
    "    scores, scores_class = [], []\n",
    "    for i in range(n_splits):\n",
    "        cur_split = fake_imgs[i*n_splits: (i+1)*n_splits]\n",
    "        predict = resmod(cur_split)\n",
    "        p_yx = F.softmax(predict, dim=1)\n",
    "        p_y = p_yx.mean(0, keepdim=True)\n",
    "        KL = p_yx * (torch.log(p_yx + eps) - torch.log(p_y + eps))\n",
    "        avg_KL = KL.sum(1).mean()\n",
    "        inception_score = torch.exp(avg_KL)\n",
    "        scores.append(inception_score.detach().cpu().numpy())\n",
    "\n",
    "    return np.array(scores)"
   ]
  },
  {
   "cell_type": "code",
   "execution_count": 11,
   "metadata": {},
   "outputs": [],
   "source": [
    "scores = calculate_inception_scores(fake_imgs=fake_imgs, resmod=resnet, n_splits=10, eps=1e-15)"
   ]
  },
  {
   "cell_type": "code",
   "execution_count": 12,
   "metadata": {},
   "outputs": [
    {
     "name": "stdout",
     "output_type": "stream",
     "text": [
      "mean score: 3.2761, sd score:: 0.7480\n"
     ]
    }
   ],
   "source": [
    "print(\"mean score: %.4f, sd score:: %.4f\" % (np.mean(scores), np.std(scores)))"
   ]
  },
  {
   "cell_type": "code",
   "execution_count": 93,
   "metadata": {},
   "outputs": [
    {
     "data": {
      "text/plain": [
       "(array([0, 1, 2, 3, 4, 5, 6, 7, 8, 9]),\n",
       " array([4978, 4869, 5046, 4968, 5023, 4992, 5047, 5143, 4956, 4978]))"
      ]
     },
     "execution_count": 93,
     "metadata": {},
     "output_type": "execute_result"
    }
   ],
   "source": [
    "np.unique(labels, return_counts=True)"
   ]
  },
  {
   "cell_type": "code",
   "execution_count": 31,
   "metadata": {},
   "outputs": [
    {
     "data": {
      "text/plain": [
       "2.9999999999999942"
      ]
     },
     "execution_count": 31,
     "metadata": {},
     "output_type": "execute_result"
    }
   ],
   "source": [
    "scores, scores_class = [], []\n",
    "eps=1e-15\n",
    "p_yx = np.asarray([[1.0, 0.0, 0.0], [0.0, 1.0, 0.0], [0.0, 0.0, 1.0]])\n",
    "p_y = p_yx.mean(axis=0,keepdims=True)\n",
    "KL = p_yx * (np.log(p_yx + eps) - np.log(p_y + eps))\n",
    "avg_KL = np.mean(KL.sum(axis=1))\n",
    "inception_score = np.exp(avg_KL)\n",
    "inception_score"
   ]
  },
  {
   "cell_type": "markdown",
   "metadata": {},
   "source": [
    "## IS on the raw training set"
   ]
  },
  {
   "cell_type": "code",
   "execution_count": 10,
   "metadata": {},
   "outputs": [
    {
     "name": "stdout",
     "output_type": "stream",
     "text": [
      "Files already downloaded and verified\n"
     ]
    }
   ],
   "source": [
    "transform_train = transforms.Compose([\n",
    "        transforms.Resize(32),\n",
    "#         transforms.RandomCrop(image_size, padding=4),\n",
    "#         transforms.RandomHorizontalFlip(),\n",
    "        transforms.ToTensor(),\n",
    "        transforms.Normalize((0.5, 0.5, 0.5), (0.5, 0.5, 0.5)),\n",
    "\n",
    "    ])\n",
    "trainset = torchvision.datasets.CIFAR10(root='./data', train=True, download=True, transform=transform_train)\n",
    "trainloader = torch.utils.data.DataLoader(trainset, batch_size=batch_size, shuffle=True, num_workers=16)\n",
    "\n"
   ]
  },
  {
   "cell_type": "code",
   "execution_count": 11,
   "metadata": {},
   "outputs": [
    {
     "name": "stdout",
     "output_type": "stream",
     "text": [
      "torch.Size([50000, 3, 32, 32])\n"
     ]
    }
   ],
   "source": [
    "outputs = []\n",
    "for i, data in enumerate(trainloader, 0):\n",
    "    image, label = data\n",
    "    outputs.append(image)\n",
    "cifar_traindata = torch.cat(outputs).cuda()\n",
    "print(cifar_traindata.shape)"
   ]
  },
  {
   "cell_type": "code",
   "execution_count": 15,
   "metadata": {},
   "outputs": [
    {
     "name": "stdout",
     "output_type": "stream",
     "text": [
      "4.784825 0.6176199\n"
     ]
    }
   ],
   "source": [
    "raw_scores = calculate_inception_scores(cifar_traindata, resnet, 10, 1e-15)\n",
    "print(np.mean(raw_scores), np.std(raw_scores))"
   ]
  },
  {
   "cell_type": "code",
   "execution_count": null,
   "metadata": {},
   "outputs": [],
   "source": []
  }
 ],
 "metadata": {
  "kernelspec": {
   "display_name": "Python 3",
   "language": "python",
   "name": "python3"
  },
  "language_info": {
   "codemirror_mode": {
    "name": "ipython",
    "version": 3
   },
   "file_extension": ".py",
   "mimetype": "text/x-python",
   "name": "python",
   "nbconvert_exporter": "python",
   "pygments_lexer": "ipython3",
   "version": "3.7.4"
  }
 },
 "nbformat": 4,
 "nbformat_minor": 4
}
